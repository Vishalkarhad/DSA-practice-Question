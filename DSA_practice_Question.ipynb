{
  "nbformat": 4,
  "nbformat_minor": 0,
  "metadata": {
    "colab": {
      "provenance": []
    },
    "kernelspec": {
      "name": "python3",
      "display_name": "Python 3"
    },
    "language_info": {
      "name": "python"
    }
  },
  "cells": [
    {
      "cell_type": "markdown",
      "source": [
        "\n",
        "**1. Define a doubly linked list [will be done in the class]**"
      ],
      "metadata": {
        "id": "V2HfQvKeehzu"
      }
    },
    {
      "cell_type": "markdown",
      "source": [
        "A doubly linked list is a type of linked list in which each node contains a reference (or pointer) to both its next node and its previous node. This allows traversal of the list in both forward and backward directions, unlike a singly linked list, where traversal is only possible in one direction (forward)."
      ],
      "metadata": {
        "id": "pha5PRF1ez4I"
      }
    },
    {
      "cell_type": "markdown",
      "source": [
        "**2. Write a function to reverse a linked list in-place**"
      ],
      "metadata": {
        "id": "32SRD9ste4Zt"
      }
    },
    {
      "cell_type": "code",
      "execution_count": 1,
      "metadata": {
        "id": "J5JEoCMEbLLM"
      },
      "outputs": [],
      "source": [
        "class ListNode:\n",
        "    def __init__(self, value=0, next=None):\n",
        "        self.value = value  # The value of the node\n",
        "        self.next = next    # Pointer to the next node\n"
      ]
    },
    {
      "cell_type": "code",
      "source": [
        "def reverse_linked_list(head):\n",
        "    prev = None\n",
        "    current = head\n",
        "\n",
        "    while current:\n",
        "        next_node = current.next  # Save the next node\n",
        "        current.next = prev       # Reverse the link\n",
        "        prev = current            # Move prev to this node\n",
        "        current = next_node       # Move to the next node\n",
        "\n",
        "    return prev  # New head of the reversed list\n"
      ],
      "metadata": {
        "id": "eGCKNA4TfHz2"
      },
      "execution_count": 2,
      "outputs": []
    },
    {
      "cell_type": "markdown",
      "source": [
        "**3. Detect cycle in a linked list**"
      ],
      "metadata": {
        "id": "haDHhNvXfOEV"
      }
    },
    {
      "cell_type": "code",
      "source": [
        "class ListNode:\n",
        "    def __init__(self, value=0, next=None):\n",
        "        self.value = value  # The value of the node\n",
        "        self.next = next    # Pointer to the next node\n",
        "\n",
        "def has_cycle(head):\n",
        "    slow = head\n",
        "    fast = head\n",
        "\n",
        "    while fast and fast.next:\n",
        "        slow = slow.next         # Move slow pointer by 1 step\n",
        "        fast = fast.next.next   # Move fast pointer by 2 steps\n",
        "\n",
        "        if slow == fast:\n",
        "            return True         # Cycle detected\n",
        "\n",
        "    return False                # No cycle detected\n",
        "\n",
        "# Helper function to create a list with a cycle for testing\n",
        "def create_list_with_cycle(values, cycle_start_index):\n",
        "    if not values:\n",
        "        return None\n",
        "\n",
        "    head = ListNode(values[0])\n",
        "    current = head\n",
        "    cycle_start_node = None\n",
        "\n",
        "    for i in range(1, len(values)):\n",
        "        current.next = ListNode(values[i])\n",
        "        current = current.next\n",
        "        if i == cycle_start_index:\n",
        "            cycle_start_node = current\n",
        "\n",
        "    if cycle_start_node:\n",
        "        current.next = cycle_start_node  # Create the cycle\n",
        "\n",
        "    return head\n",
        "\n",
        "# Example usage:\n",
        "# Create a list: 1 -> 2 -> 3 -> 4 -> 5 -> 2 (cycle here)\n",
        "head = create_list_with_cycle([1, 2, 3, 4, 5], 1)  # 2 is the start of the cycle\n",
        "\n",
        "print(has_cycle(head))  # Output: True\n"
      ],
      "metadata": {
        "colab": {
          "base_uri": "https://localhost:8080/"
        },
        "id": "baZ2ZXJqfJLN",
        "outputId": "8b320a07-19a4-4a64-c86f-dd2530c0e516"
      },
      "execution_count": 3,
      "outputs": [
        {
          "output_type": "stream",
          "name": "stdout",
          "text": [
            "True\n"
          ]
        }
      ]
    },
    {
      "cell_type": "markdown",
      "source": [
        "**4. Merge two sorted linked list into one**\n",
        "\n",
        "**1->3->5->6->null and 2->4->6->8->null should be merged to make 1->2->3->4->5->6->7->8**"
      ],
      "metadata": {
        "id": "vuPFLGVDfcZV"
      }
    },
    {
      "cell_type": "code",
      "source": [
        "class ListNode:\n",
        "    def __init__(self, value=0, next=None):\n",
        "        self.value = value  # The value of the node\n",
        "        self.next = next    # Pointer to the next node\n",
        "\n",
        "def merge_two_sorted_lists(l1, l2):\n",
        "    # Create a dummy node to act as the starting point of the merged list\n",
        "    dummy = ListNode()\n",
        "    current = dummy\n",
        "\n",
        "    # Initialize pointers for both lists\n",
        "    p1 = l1\n",
        "    p2 = l2\n",
        "\n",
        "    # Traverse both lists\n",
        "    while p1 and p2:\n",
        "        if p1.value <= p2.value:\n",
        "            current.next = p1\n",
        "            p1 = p1.next\n",
        "        else:\n",
        "            current.next = p2\n",
        "            p2 = p2.next\n",
        "        current = current.next\n",
        "\n",
        "    # Attach the remaining nodes of the non-exhausted list\n",
        "    if p1:\n",
        "        current.next = p1\n",
        "    if p2:\n",
        "        current.next = p2\n",
        "\n",
        "    # Return the merged list starting from the node after the dummy\n",
        "    return dummy.next\n",
        "\n",
        "# Helper function to print the linked list\n",
        "def print_linked_list(head):\n",
        "    while head:\n",
        "        print(head.value, end=' -> ')\n",
        "        head = head.next\n",
        "    print('None')\n",
        "\n",
        "# Helper function to create a linked list from a list of values\n",
        "def create_linked_list(values):\n",
        "    if not values:\n",
        "        return None\n",
        "    head = ListNode(values[0])\n",
        "    current = head\n",
        "    for value in values[1:]:\n",
        "        current.next = ListNode(value)\n",
        "        current = current.next\n",
        "    return head\n",
        "\n",
        "# Example usage:\n",
        "l1 = create_linked_list([1, 3, 5, 6])\n",
        "l2 = create_linked_list([2, 4, 6, 8])\n",
        "\n",
        "merged_list = merge_two_sorted_lists(l1, l2)\n",
        "print(\"Merged List:\")\n",
        "print_linked_list(merged_list)\n"
      ],
      "metadata": {
        "colab": {
          "base_uri": "https://localhost:8080/"
        },
        "id": "oP48_oYNfZ5-",
        "outputId": "54d15603-5b87-471f-902b-0c373f74c68e"
      },
      "execution_count": 4,
      "outputs": [
        {
          "output_type": "stream",
          "name": "stdout",
          "text": [
            "Merged List:\n",
            "1 -> 2 -> 3 -> 4 -> 5 -> 6 -> 6 -> 8 -> None\n"
          ]
        }
      ]
    },
    {
      "cell_type": "markdown",
      "source": [
        "**5.Write a function to remove nth node from the end in a linked list**\n",
        "\n",
        "**1->2->3->4->5->6, removing 2nd node from end will return 1->2->3->4->6**"
      ],
      "metadata": {
        "id": "zWpjh4n1f6zN"
      }
    },
    {
      "cell_type": "code",
      "source": [
        "class ListNode:\n",
        "    def __init__(self, value=0, next=None):\n",
        "        self.value = value  # The value of the node\n",
        "        self.next = next    # Pointer to the next node\n",
        "\n",
        "def remove_nth_from_end(head, n):\n",
        "    # Create a dummy node to handle edge cases such as removing the head\n",
        "    dummy = ListNode(0)\n",
        "    dummy.next = head\n",
        "\n",
        "    first = dummy\n",
        "    second = dummy\n",
        "\n",
        "    # Move first pointer n+1 steps ahead\n",
        "    for _ in range(n + 1):\n",
        "        if first:\n",
        "            first = first.next\n",
        "\n",
        "    # Move both pointers until first reaches the end\n",
        "    while first:\n",
        "        first = first.next\n",
        "        second = second.next\n",
        "\n",
        "    # Remove the nth node from end\n",
        "    second.next = second.next.next\n",
        "\n",
        "    # Return the new head of the list\n",
        "    return dummy.next\n",
        "\n",
        "# Helper function to print the linked list\n",
        "def print_linked_list(head):\n",
        "    while head:\n",
        "        print(head.value, end=' -> ')\n",
        "        head = head.next\n",
        "    print('None')\n",
        "\n",
        "# Helper function to create a linked list from a list of values\n",
        "def create_linked_list(values):\n",
        "    if not values:\n",
        "        return None\n",
        "    head = ListNode(values[0])\n",
        "    current = head\n",
        "    for value in values[1:]:\n",
        "        current.next = ListNode(value)\n",
        "        current = current.next\n",
        "    return head\n",
        "\n",
        "# Example usage:\n",
        "head = create_linked_list([1, 2, 3, 4, 5, 6])\n",
        "n = 2  # Remove the 2nd node from the end\n",
        "new_head = remove_nth_from_end(head, n)\n",
        "\n",
        "print(\"Modified List:\")\n",
        "print_linked_list(new_head)\n"
      ],
      "metadata": {
        "colab": {
          "base_uri": "https://localhost:8080/"
        },
        "id": "IExeTkTgf3wW",
        "outputId": "ebf13c7a-1188-4cba-b3ff-e9fa463d243c"
      },
      "execution_count": 5,
      "outputs": [
        {
          "output_type": "stream",
          "name": "stdout",
          "text": [
            "Modified List:\n",
            "1 -> 2 -> 3 -> 4 -> 6 -> None\n"
          ]
        }
      ]
    },
    {
      "cell_type": "markdown",
      "source": [
        "**6.Remove duplicates from a sorted linked list**\n",
        "\n",
        "\n",
        "**1->2->3->3->4->4->4->5  should be changed to 1->2->3->4->5**"
      ],
      "metadata": {
        "id": "ge7o_PKegVBN"
      }
    },
    {
      "cell_type": "code",
      "source": [
        "class ListNode:\n",
        "    def __init__(self, value=0, next=None):\n",
        "        self.value = value  # The value of the node\n",
        "        self.next = next    # Pointer to the next node\n",
        "\n",
        "def remove_duplicates(head):\n",
        "    current = head\n",
        "\n",
        "    while current and current.next:\n",
        "        if current.value == current.next.value:\n",
        "            # Skip the next node as it is a duplicate\n",
        "            current.next = current.next.next\n",
        "        else:\n",
        "            # Move to the next node\n",
        "            current = current.next\n",
        "\n",
        "    return head\n",
        "\n",
        "# Helper function to print the linked list\n",
        "def print_linked_list(head):\n",
        "    while head:\n",
        "        print(head.value, end=' -> ')\n",
        "        head = head.next\n",
        "    print('None')\n",
        "\n",
        "# Helper function to create a linked list from a list of values\n",
        "def create_linked_list(values):\n",
        "    if not values:\n",
        "        return None\n",
        "    head = ListNode(values[0])\n",
        "    current = head\n",
        "    for value in values[1:]:\n",
        "        current.next = ListNode(value)\n",
        "        current = current.next\n",
        "    return head\n",
        "\n",
        "# Example usage:\n",
        "head = create_linked_list([1, 2, 3, 3, 4, 4, 4, 5])\n",
        "print(\"Original List:\")\n",
        "print_linked_list(head)\n",
        "\n",
        "head = remove_duplicates(head)\n",
        "print(\"List after removing duplicates:\")\n",
        "print_linked_list(head)\n"
      ],
      "metadata": {
        "colab": {
          "base_uri": "https://localhost:8080/"
        },
        "id": "n47VPkZVgTye",
        "outputId": "c1344507-c6f3-41eb-9b29-b3a0ae68c8f9"
      },
      "execution_count": 6,
      "outputs": [
        {
          "output_type": "stream",
          "name": "stdout",
          "text": [
            "Original List:\n",
            "1 -> 2 -> 3 -> 3 -> 4 -> 4 -> 4 -> 5 -> None\n",
            "List after removing duplicates:\n",
            "1 -> 2 -> 3 -> 4 -> 5 -> None\n"
          ]
        }
      ]
    },
    {
      "cell_type": "markdown",
      "source": [
        "**7.Find the intersection of the two linked lists**\n",
        "\n",
        "**1->2->3->4->8->6->9  5->1->6->7  , intersection 1->6**"
      ],
      "metadata": {
        "id": "oUhsr9X1gnXG"
      }
    },
    {
      "cell_type": "code",
      "source": [
        "class ListNode:\n",
        "    def __init__(self, value=0, next=None):\n",
        "        self.value = value  # The value of the node\n",
        "        self.next = next    # Pointer to the next node\n",
        "\n",
        "def get_length(head):\n",
        "    length = 0\n",
        "    current = head\n",
        "    while current:\n",
        "        length += 1\n",
        "        current = current.next\n",
        "    return length\n",
        "\n",
        "def find_intersection(head1, head2):\n",
        "    # Calculate the lengths of both lists\n",
        "    len1 = get_length(head1)\n",
        "    len2 = get_length(head2)\n",
        "\n",
        "    # Align the start of both lists\n",
        "    while len1 > len2:\n",
        "        head1 = head1.next\n",
        "        len1 -= 1\n",
        "    while len2 > len1:\n",
        "        head2 = head2.next\n",
        "        len2 -= 1\n",
        "\n",
        "    # Find the intersection\n",
        "    while head1 and head2:\n",
        "        if head1 == head2:\n",
        "            return head1\n",
        "        head1 = head1.next\n",
        "        head2 = head2.next\n",
        "\n",
        "    return None\n",
        "\n",
        "def print_linked_list(head):\n",
        "    while head:\n",
        "        print(head.value, end=' -> ')\n",
        "        head = head.next\n",
        "    print('None')\n",
        "\n",
        "def create_linked_list(values):\n",
        "    if not values:\n",
        "        return None\n",
        "    head = ListNode(values[0])\n",
        "    current = head\n",
        "    for value in values[1:]:\n",
        "        current.next = ListNode(value)\n",
        "        current = current.next\n",
        "    return head\n",
        "\n",
        "def create_intersecting_lists(values1, values2, intersection_values):\n",
        "    # Create lists\n",
        "    head1 = create_linked_list(values1)\n",
        "    head2 = create_linked_list(values2)\n",
        "\n",
        "    # Create intersection\n",
        "    intersection = create_linked_list(intersection_values)\n",
        "\n",
        "    # Find the tail of first and second list\n",
        "    tail1 = head1\n",
        "    while tail1 and tail1.next:\n",
        "        tail1 = tail1.next\n",
        "\n",
        "    tail2 = head2\n",
        "    while tail2 and tail2.next:\n",
        "        tail2 = tail2.next\n",
        "\n",
        "    # Attach the intersection\n",
        "    if tail1:\n",
        "        tail1.next = intersection\n",
        "    if tail2:\n",
        "        tail2.next = intersection\n",
        "\n",
        "    return head1, head2\n",
        "\n",
        "# Example usage:\n",
        "list1, list2 = create_intersecting_lists([1, 2, 3, 4, 8, 6, 9], [5, 1, 6, 7], [6, 9])\n",
        "intersection_node = find_intersection(list1, list2)\n",
        "\n",
        "print(\"Intersection starting node value:\")\n",
        "if intersection_node:\n",
        "    print(intersection_node.value)\n",
        "else:\n",
        "    print(\"No intersection\")\n",
        "\n",
        "print(\"Intersection List:\")\n",
        "# Print the full intersection list starting from the intersection node\n",
        "while intersection_node:\n",
        "    print(intersection_node.value, end=' -> ')\n",
        "    intersection_node = intersection_node.next\n",
        "print('None')\n"
      ],
      "metadata": {
        "colab": {
          "base_uri": "https://localhost:8080/"
        },
        "id": "z-zvNYXvgl79",
        "outputId": "740eb70b-3979-4ed3-c346-cfcecc32d5fe"
      },
      "execution_count": 7,
      "outputs": [
        {
          "output_type": "stream",
          "name": "stdout",
          "text": [
            "Intersection starting node value:\n",
            "6\n",
            "Intersection List:\n",
            "6 -> 9 -> None\n"
          ]
        }
      ]
    },
    {
      "cell_type": "markdown",
      "source": [
        "**8. Rotate a linked list by k posiotion to the right**\n",
        "\n",
        " **1->2->3->4->8->6->9 , after rotating for 2 times Cecomes , 3->4->8->6->9->1->2**"
      ],
      "metadata": {
        "id": "YbBBOQeljyNc"
      }
    },
    {
      "cell_type": "code",
      "source": [
        "class ListNode:\n",
        "    def __init__(self, value=0, next=None):\n",
        "        self.value = value  # The value of the node\n",
        "        self.next = next    # Pointer to the next node\n",
        "\n",
        "def rotate_right(head, k):\n",
        "    if not head or k == 0:\n",
        "        return head\n",
        "\n",
        "    # Step 1: Compute the length of the list\n",
        "    length = 1\n",
        "    current = head\n",
        "    while current.next:\n",
        "        current = current.next\n",
        "        length += 1\n",
        "\n",
        "    # Step 2: Normalize k\n",
        "    k %= length\n",
        "    if k == 0:\n",
        "        return head\n",
        "\n",
        "    # Step 3: Find the new tail (length - k - 1) and new head (length - k)\n",
        "    current = head\n",
        "    for _ in range(length - k - 1):\n",
        "        current = current.next\n",
        "\n",
        "    new_head = current.next\n",
        "    current.next = None\n",
        "\n",
        "    # Step 4: Find the end of the new list and link it to the old head\n",
        "    end = new_head\n",
        "    while end.next:\n",
        "        end = end.next\n",
        "    end.next = head\n",
        "\n",
        "    return new_head\n",
        "\n",
        "# Helper function to print the linked list\n",
        "def print_linked_list(head):\n",
        "    while head:\n",
        "        print(head.value, end=' -> ')\n",
        "        head = head.next\n",
        "    print('None')\n",
        "\n",
        "# Helper function to create a linked list from a list of values\n",
        "def create_linked_list(values):\n",
        "    if not values:\n",
        "        return None\n",
        "    head = ListNode(values[0])\n",
        "    current = head\n",
        "    for value in values[1:]:\n",
        "        current.next = ListNode(value)\n",
        "        current = current.next\n",
        "    return head\n",
        "\n",
        "# Example usage:\n",
        "head = create_linked_list([1, 2, 3, 4, 8, 6, 9])\n",
        "k = 2\n",
        "rotated_head = rotate_right(head, k)\n",
        "\n",
        "print(\"Rotated List:\")\n",
        "print_linked_list(rotated_head)\n"
      ],
      "metadata": {
        "colab": {
          "base_uri": "https://localhost:8080/"
        },
        "id": "IkW72MhUjwy-",
        "outputId": "868114ed-1ac6-4553-b516-a075ba3f7a75"
      },
      "execution_count": 8,
      "outputs": [
        {
          "output_type": "stream",
          "name": "stdout",
          "text": [
            "Rotated List:\n",
            "6 -> 9 -> 1 -> 2 -> 3 -> 4 -> 8 -> None\n"
          ]
        }
      ]
    },
    {
      "cell_type": "markdown",
      "source": [
        "**9. Add two Number Represented by LinkedLists:**\n",
        "\n",
        "Given two non-empty linked lists representing two non-negative integers, where the digits are stored in\n",
        "reverse order, add the two numCers and return it as a linked list"
      ],
      "metadata": {
        "id": "Ee-0c4EPkJPF"
      }
    },
    {
      "cell_type": "code",
      "source": [
        "class ListNode:\n",
        "    def __init__(self, value=0, next=None):\n",
        "        self.value = value  # The value of the node\n",
        "        self.next = next    # Pointer to the next node\n",
        "\n",
        "def add_two_numbers(l1, l2):\n",
        "    dummy_head = ListNode(0)  # Dummy node to help build the result list\n",
        "    current = dummy_head  # Pointer to construct the new list\n",
        "    carry = 0  # Initialize carry to 0\n",
        "\n",
        "    while l1 or l2 or carry:\n",
        "        # Get the values from the current nodes of l1 and l2\n",
        "        val1 = l1.value if l1 else 0\n",
        "        val2 = l2.value if l2 else 0\n",
        "\n",
        "        # Calculate the sum of the current digits and the carry\n",
        "        total = val1 + val2 + carry\n",
        "\n",
        "        # Update carry for the next iteration\n",
        "        carry = total // 10\n",
        "\n",
        "        # Create a new node with the digit value (total % 10)\n",
        "        current.next = ListNode(total % 10)\n",
        "\n",
        "        # Move the pointer to the next node\n",
        "        current = current.next\n",
        "\n",
        "        # Move to the next nodes in l1 and l2\n",
        "        if l1:\n",
        "            l1 = l1.next\n",
        "        if l2:\n",
        "            l2 = l2.next\n",
        "\n",
        "    return dummy_head.next\n",
        "\n",
        "# Helper function to print the linked list\n",
        "def print_linked_list(head):\n",
        "    while head:\n",
        "        print(head.value, end=' -> ')\n",
        "        head = head.next\n",
        "    print('None')\n",
        "\n",
        "# Helper function to create a linked list from a list of values\n",
        "def create_linked_list(values):\n",
        "    if not values:\n",
        "        return None\n",
        "    head = ListNode(values[0])\n",
        "    current = head\n",
        "    for value in values[1:]:\n",
        "        current.next = ListNode(value)\n",
        "        current = current.next\n",
        "    return head\n",
        "\n",
        "# Example usage:\n",
        "l1 = create_linked_list([2, 4, 3])  # Represents the number 342\n",
        "l2 = create_linked_list([5, 6, 4])  # Represents the number 465\n",
        "result = add_two_numbers(l1, l2)\n",
        "\n",
        "print(\"Sum List:\")\n",
        "print_linked_list(result)\n"
      ],
      "metadata": {
        "colab": {
          "base_uri": "https://localhost:8080/"
        },
        "id": "GiZ5t5zqkFds",
        "outputId": "7d7d4179-922c-451f-bd58-111491b1abce"
      },
      "execution_count": 9,
      "outputs": [
        {
          "output_type": "stream",
          "name": "stdout",
          "text": [
            "Sum List:\n",
            "7 -> 0 -> 8 -> None\n"
          ]
        }
      ]
    },
    {
      "cell_type": "markdown",
      "source": [
        "**10. clone a linked list with next and Random pointer**\n",
        "\n",
        "Given a linked list of size N where each node has two links: one pointer points to the next node and the\n",
        "second pointer points to any node in the list. The task is to create a clone of this linked list in O(N) time.\n",
        "\n",
        "\n",
        "Note: The pointer pointing to the next node is ‘next‘ pointer and the one pointing to an arCitrary node is\n",
        "called ‘arCit’ pointer as it can point to any arCitrary node in the linked list."
      ],
      "metadata": {
        "id": "0BJGv-Ank0lX"
      }
    },
    {
      "cell_type": "code",
      "source": [
        "class ListNode:\n",
        "    def __init__(self, value=0, next=None, random=None):\n",
        "        self.value = value  # The value of the node\n",
        "        self.next = next    # Pointer to the next node\n",
        "        self.random = random  # Pointer to an arbitrary node\n",
        "\n",
        "def clone_linked_list(head):\n",
        "    if not head:\n",
        "        return None\n",
        "\n",
        "    # Step 1: Interleave original and cloned nodes\n",
        "    current = head\n",
        "    while current:\n",
        "        # Create a clone node\n",
        "        clone = ListNode(current.value)\n",
        "        # Insert the clone node right after the original node\n",
        "        clone.next = current.next\n",
        "        current.next = clone\n",
        "        # Move to the next node in the original list\n",
        "        current = clone.next\n",
        "\n",
        "    # Step 2: Assign random pointers for the cloned nodes\n",
        "    current = head\n",
        "    while current:\n",
        "        clone = current.next\n",
        "        if current.random:\n",
        "            clone.random = current.random.next\n",
        "        # Move to the next node in the original list\n",
        "        current = clone.next\n",
        "\n",
        "    # Step 3: Separate the original list and the cloned list\n",
        "    original = head\n",
        "    clone_head = head.next\n",
        "    clone_current = clone_head\n",
        "\n",
        "    while original:\n",
        "        original.next = original.next.next\n",
        "        if clone_current.next:\n",
        "            clone_current.next = clone_current.next.next\n",
        "        original = original.next\n",
        "        clone_current = clone_current.next\n",
        "\n",
        "    return clone_head\n",
        "\n",
        "# Helper function to print the linked list\n",
        "def print_linked_list(head):\n",
        "    nodes = []\n",
        "    while head:\n",
        "        random_val = head.random.value if head.random else None\n",
        "        nodes.append(f'{head.value}({random_val})')\n",
        "        head = head.next\n",
        "    print(' -> '.join(nodes))\n",
        "\n",
        "# Helper function to create a linked list from a list of tuples (value, random_index)\n",
        "def create_linked_list_with_random(pairs):\n",
        "    if not pairs:\n",
        "        return None\n",
        "\n",
        "    nodes = [ListNode(value) for value, _ in pairs]\n",
        "    for i, (value, random_index) in enumerate(pairs):\n",
        "        if i < len(pairs) - 1:\n",
        "            nodes[i].next = nodes[i + 1]\n",
        "        if random_index is not None:\n",
        "            nodes[i].random = nodes[random_index]\n",
        "\n",
        "    return nodes[0]\n",
        "\n",
        "# Example usage:\n",
        "pairs = [(1, 2), (2, 0), (3, None), (4, 1)]  # (value, random_index)\n",
        "head = create_linked_list_with_random(pairs)\n",
        "print(\"Original List:\")\n",
        "print_linked_list(head)\n",
        "\n",
        "cloned_head = clone_linked_list(head)\n",
        "print(\"Cloned List:\")\n",
        "print_linked_list(cloned_head)\n",
        "\n"
      ],
      "metadata": {
        "colab": {
          "base_uri": "https://localhost:8080/"
        },
        "id": "c6Mg4bW_kxjd",
        "outputId": "14d4f996-980e-4d24-c5ac-35b0be43e6e8"
      },
      "execution_count": 10,
      "outputs": [
        {
          "output_type": "stream",
          "name": "stdout",
          "text": [
            "Original List:\n",
            "1(3) -> 2(1) -> 3(None) -> 4(2)\n",
            "Cloned List:\n",
            "1(3) -> 2(1) -> 3(None) -> 4(2)\n"
          ]
        }
      ]
    },
    {
      "cell_type": "code",
      "source": [],
      "metadata": {
        "id": "SGy2hsgplGMV"
      },
      "execution_count": null,
      "outputs": []
    }
  ]
}